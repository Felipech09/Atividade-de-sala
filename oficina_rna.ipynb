{
  "cells": [
    {
      "cell_type": "markdown",
      "metadata": {
        "id": "view-in-github",
        "colab_type": "text"
      },
      "source": [
        "<a href=\"https://colab.research.google.com/github/Felipech09/Atividade-de-sala/blob/main/oficina_rna.ipynb\" target=\"_parent\"><img src=\"https://colab.research.google.com/assets/colab-badge.svg\" alt=\"Open In Colab\"/></a>"
      ]
    },
    {
      "cell_type": "code",
      "execution_count": 21,
      "metadata": {
        "id": "ranRzLRnHQNr"
      },
      "outputs": [],
      "source": [
        "import numpy as np\n",
        "import pandas as pd\n",
        "import matplotlib.pyplot as plt\n",
        "import seaborn as sns"
      ]
    },
    {
      "cell_type": "markdown",
      "metadata": {
        "id": "mwsqe1rlDzUP"
      },
      "source": [
        "# Redes Neurais Artificiais\n",
        "## I. O Neurônio Artificial e o Perceptron\n",
        "\n",
        "### 1.1 Introdução Teórica\n",
        "\n",
        "O ponto de partida das Redes Neurais é o Neurônio Artificial, inspirado na célula nervosa biológica. Ele realiza duas operações principais:\n",
        "\n",
        "1. Soma Ponderada: Multiplica cada entrada ($x_i$) por seu respectivo peso ($w_i$) e soma um bias ($b$).\n",
        "$$z=\\left(\\sum_{i=1}^{n} x_i w_i \\right)+b$$\n",
        "\n",
        "2. Ativação: Aplica uma função de ativação ($f$) ao resultado ($z$) para produzir a saída:\n",
        "$$r=f(z)$$\n",
        "\n",
        "O Perceptron (1957) é o modelo mais simples, usando uma função de ativação Degrau para classificação binária. Ele só consegue resolver problemas linearmente separáveis.\n",
        "\n",
        "### 1.2 Implementação do Perceptron (Classificação Linear)\n",
        "\n",
        "Vamos simular a porta lógica `AND` para demonstrar o Perceptron."
      ]
    },
    {
      "cell_type": "code",
      "execution_count": 22,
      "metadata": {
        "id": "YPqXYQIqIcP0"
      },
      "outputs": [],
      "source": [
        "# Definindo a porta lógica AND\n",
        "data = {\n",
        "    'X1': [0, 0, 1, 1],\n",
        "    'X2': [0, 1, 0, 1],\n",
        "    'Y': [0, 0, 0, 1]\n",
        "}\n",
        "df_and = pd.DataFrame(data)\n",
        "X = df_and[['X1', 'X2']].values\n",
        "Y = df_and['Y'].values"
      ]
    },
    {
      "cell_type": "code",
      "execution_count": 23,
      "metadata": {
        "id": "nmRG3QZRII27"
      },
      "outputs": [],
      "source": [
        "import numpy as np\n",
        "\n",
        "# Função de Ativação Degrau\n",
        "def step_function(z):\n",
        "    return 1 if z >= 0 else 0\n",
        "\n",
        "# Treinamento do Perceptron\n",
        "def train_perceptron(X, Y, epochs=10, learning_rate=0.1):\n",
        "    # Inicializa pesos (w1, w2) e bias (b) aleatoriamente (ou zeros)\n",
        "    weights = np.zeros(X.shape[1])  # 2 pesos (w1, w2)\n",
        "    bias = 0.0\n",
        "\n",
        "    for epoch in range(epochs):\n",
        "        total_error = 0\n",
        "        for x, y_true in zip(X, Y):\n",
        "            # 1. Soma Ponderada\n",
        "            z = np.dot(x, weights) + bias\n",
        "\n",
        "            # 2. Ativação\n",
        "            y_pred = step_function(z)\n",
        "\n",
        "            # 3. Cálculo do Erro e Ajuste\n",
        "            error = y_true - y_pred\n",
        "            total_error += abs(error)\n",
        "\n",
        "            # 4. Atualização dos Pesos e Bias (Regra do Perceptron)\n",
        "            weights += learning_rate * error * x\n",
        "            bias += learning_rate * error\n",
        "\n",
        "        print(f\"Época {epoch+1}: Erro Total = {total_error}\")\n",
        "        if total_error == 0:\n",
        "            print(\"Convergência atingida!\")\n",
        "            break\n",
        "\n",
        "    return weights, bias\n"
      ]
    },
    {
      "cell_type": "code",
      "execution_count": 24,
      "metadata": {
        "colab": {
          "base_uri": "https://localhost:8080/"
        },
        "id": "fR7xReI3IpsU",
        "outputId": "3f3e0c40-5497-4a97-f56d-951266f24746"
      },
      "outputs": [
        {
          "output_type": "stream",
          "name": "stdout",
          "text": [
            "--- Treinando Perceptron (Porta AND) ---\n",
            "Época 1: Erro Total = 2\n",
            "Época 2: Erro Total = 3\n",
            "Época 3: Erro Total = 3\n",
            "Época 4: Erro Total = 0\n",
            "Convergência atingida!\n",
            "\n",
            "Pesos Finais (w1, w2): [0.2 0.1]\n",
            "Bias Final (b): -0.20000000000000004\n",
            "\n",
            "--- Teste de Previsão ---\n",
            "Entrada: [0 0], Verdadeiro: 0, Previsto: 0\n",
            "Entrada: [0 1], Verdadeiro: 0, Previsto: 0\n",
            "Entrada: [1 0], Verdadeiro: 0, Previsto: 0\n",
            "Entrada: [1 1], Verdadeiro: 1, Previsto: 1\n"
          ]
        }
      ],
      "source": [
        "# Execução do treinamento para AND\n",
        "print(\"--- Treinando Perceptron (Porta AND) ---\")\n",
        "final_weights, final_bias = train_perceptron(X, Y, epochs=10, learning_rate=0.1)\n",
        "\n",
        "print(f\"\\nPesos Finais (w1, w2): {final_weights}\")\n",
        "print(f\"Bias Final (b): {final_bias}\")\n",
        "\n",
        "# Teste\n",
        "def predict_perceptron(x, weights, bias):\n",
        "    z = np.dot(x, weights) + bias\n",
        "    return step_function(z)\n",
        "\n",
        "print(\"\\n--- Teste de Previsão ---\")\n",
        "for x, y_true in zip(X, Y):\n",
        "    y_pred = predict_perceptron(x, final_weights, final_bias)\n",
        "    print(f\"Entrada: {x}, Verdadeiro: {y_true}, Previsto: {y_pred}\")"
      ]
    },
    {
      "cell_type": "markdown",
      "metadata": {
        "id": "nU7YMg3NJG3J"
      },
      "source": [
        "# II. MLP\n",
        "\n",
        "## 2.1 Teoria da MLP\n",
        "\n",
        "O Perceptron falha no problema `XOR` porque ele não é linearmente separável. A solução é o MLP (Multi-Layer Perceptron), que adiciona Camadas Ocultas.\n",
        "\n",
        "Para que camadas ocultas sejam eficazes, a função de ativação deve ser Não-Linear e, mais importante para o próximo passo, Diferenciável.\n",
        "\n",
        "1. **Função Sigmoide**: Usada historicamente.\n",
        "$$f(z)=\\frac{1}{1 + e^{−z}}$$\n",
        "\n",
        "2. **Função ReLU** (Rectified Linear Unit): A mais comum atualmente, por ser simples e eficiente.\n",
        "$$f(z)=\\max(0,z)$$\n",
        "\n",
        "## 2.2 Preparando o Problema XOR"
      ]
    },
    {
      "cell_type": "code",
      "execution_count": 25,
      "metadata": {
        "id": "nnEpcOnDJEEK"
      },
      "outputs": [],
      "source": [
        "# Definindo o problema XOR\n",
        "xor_data = {\n",
        "    'X1': [0, 0, 1, 1],\n",
        "    'X2': [0, 1, 0, 1],\n",
        "    'Y': [0, 1, 1, 0]\n",
        "}\n",
        "df_xor = pd.DataFrame(xor_data)\n",
        "X_xor = df_xor[['X1', 'X2']].values\n",
        "Y_xor = df_xor['Y'].values.reshape(-1, 1)"
      ]
    },
    {
      "cell_type": "code",
      "execution_count": 26,
      "metadata": {
        "id": "aiqJGUjbKBQ-"
      },
      "outputs": [],
      "source": [
        "# Funções de Ativação e Suas Derivadas\n",
        "def sigmoid(z):\n",
        "    return 1 / (1 + np.exp(-z))\n",
        "\n",
        "def sigmoid_derivative(a):\n",
        "    return a * (1 - a)"
      ]
    },
    {
      "cell_type": "markdown",
      "metadata": {
        "id": "uhZRC1DDLQdT"
      },
      "source": [
        "\n",
        "#### Estrutura da MLP:\n",
        "* Camada de Entrada: 2 neurônios (X1, X2)\n",
        "* Camada Oculta: 3 neurônios (escolha arbitrária)\n",
        "* Camada de Saída: 1 neurônio (Y)\n",
        "\n",
        "# III. Backpropagation\n",
        "\n",
        "## 3.1 Teoria do Treinamento\n",
        "\n",
        "O **Backpropagation** (**Retropropagação**) é o algoritmo para treinar MLPs. Ele usa a **Descida do Gradiente** para ajustar os pesos de trás para frente, minimizando a Função de Custo (usaremos o **Erro Quadrático Médio** `MSE`, $J$).\n",
        "\n",
        "A atualização de um peso ($w$) é dada por:\n",
        "$$w_{i}=w_{i-1} - \\alpha \\frac{\\partial J}{\\partial w}$$\n",
        "\n",
        "O cálculo do gradiente ($\\frac{\\partial J}{\\partial w}$) é feito pela **Regra da Cadeia**, propagando o erro da camada de saída de volta para as camadas ocultas.\n",
        "\n",
        "## 3.2 Implementação da MLP com Backpropagation"
      ]
    },
    {
      "cell_type": "code",
      "execution_count": 27,
      "metadata": {
        "colab": {
          "base_uri": "https://localhost:8080/"
        },
        "id": "Yl3QBATSMc45",
        "outputId": "4072721b-5d56-4dea-8930-236e91c35398"
      },
      "outputs": [
        {
          "output_type": "stream",
          "name": "stdout",
          "text": [
            "Época 0: Custo (Loss) = 0.1489\n",
            "Época 1000: Custo (Loss) = 0.0096\n",
            "Época 2000: Custo (Loss) = 0.0014\n",
            "Época 3000: Custo (Loss) = 0.0007\n",
            "Época 4000: Custo (Loss) = 0.0004\n",
            "Época 5000: Custo (Loss) = 0.0003\n",
            "Época 6000: Custo (Loss) = 0.0003\n",
            "Época 7000: Custo (Loss) = 0.0002\n",
            "Época 8000: Custo (Loss) = 0.0002\n",
            "Época 9000: Custo (Loss) = 0.0002\n",
            "\n",
            "--- Treinamento Concluído ---\n"
          ]
        }
      ],
      "source": [
        "np.random.seed(42)\n",
        "\n",
        "# Hiperparâmetros\n",
        "epochs = 10000\n",
        "learning_rate = 0.5\n",
        "input_size = 2\n",
        "hidden_size = 3\n",
        "output_size = 1\n",
        "\n",
        "# 1. Inicialização dos Pesos e Bias\n",
        "# Camada de Entrada -> Oculta (W1 e b1)\n",
        "W1 = np.random.uniform(size=(input_size, hidden_size))\n",
        "b1 = np.zeros((1, hidden_size))\n",
        "\n",
        "# Camada Oculta -> Saída (W2 e b2)\n",
        "W2 = np.random.uniform(size=(hidden_size, output_size))\n",
        "b2 = np.zeros((1, output_size))\n",
        "\n",
        "# 2. Loop de Treinamento\n",
        "for epoch in range(epochs):\n",
        "\n",
        "    # --- A. FORWARD PASS (Propagação Direta) ---\n",
        "    # Camada Oculta\n",
        "    Z1 = np.dot(X_xor, W1) + b1\n",
        "    R1 = sigmoid(Z1)\n",
        "\n",
        "    # Camada de Saída\n",
        "    Z2 = np.dot(R1, W2) + b2\n",
        "    R2 = sigmoid(Z2)\n",
        "\n",
        "    # --- B. BACKWARD PASS (Retropropagação do Erro) ---\n",
        "    # 1. Erro na Camada de Saída\n",
        "    # dJ/dA2 (Derivada do Custo em relação à Saída)\n",
        "    E_output = Y_xor - R2\n",
        "\n",
        "    # dJ/dZ2: Gradiente de Z2\n",
        "    dZ2 = E_output * sigmoid_derivative(R2)\n",
        "\n",
        "    # 2. Erro na Camada Oculta\n",
        "    E_hidden = np.dot(dZ2, W2.T)\n",
        "\n",
        "    # dJ/dZ1: Gradiente de Z1\n",
        "    dZ1 = E_hidden * sigmoid_derivative(R1)\n",
        "\n",
        "    # --- C. ATUALIZAÇÃO DOS PESOS (Gradient Descent) ---\n",
        "    # Gradientes\n",
        "    dW2 = np.dot(R1.T, dZ2)\n",
        "    db2 = np.sum(dZ2, axis=0, keepdims=True)\n",
        "\n",
        "    dW1 = np.dot(X_xor.T, dZ1)\n",
        "    db1 = np.sum(dZ1, axis=0, keepdims=True)\n",
        "\n",
        "    # Ajuste\n",
        "    W2 += learning_rate * dW2\n",
        "    b2 += learning_rate * db2\n",
        "\n",
        "    W1 += learning_rate * dW1\n",
        "    b1 += learning_rate * db1\n",
        "\n",
        "    # Exibir Erro\n",
        "    if epoch % 1000 == 0:\n",
        "        loss = np.mean(np.square(E_output)) / 2\n",
        "        print(f\"Época {epoch}: Custo (Loss) = {loss:.4f}\")\n",
        "\n",
        "print(\"\\n--- Treinamento Concluído ---\")"
      ]
    },
    {
      "cell_type": "markdown",
      "metadata": {
        "id": "jb1PIBztTIiS"
      },
      "source": [
        "## 3.3 Teste e Avaliação"
      ]
    },
    {
      "cell_type": "code",
      "execution_count": 28,
      "metadata": {
        "colab": {
          "base_uri": "https://localhost:8080/"
        },
        "id": "xift9JSWTLhh",
        "outputId": "4d25b953-488c-44b1-f0c1-35e383908e53"
      },
      "outputs": [
        {
          "output_type": "stream",
          "name": "stdout",
          "text": [
            "--- Resultado Final (Problema XOR) ---\n",
            "Entrada (X1, X2) | Verdadeiro (Y) | Previsto (Y_pred)\n",
            "-----------------|----------------|----------------\n",
            "(0, 0)      | 0              | 0\n",
            "(0, 1)      | 1              | 1\n",
            "(1, 0)      | 1              | 1\n",
            "(1, 1)      | 0              | 0\n",
            "\n",
            "Acurácia: 100.00%\n"
          ]
        }
      ],
      "source": [
        "# Função de Previsão Final\n",
        "def predict_mlp(X, W1, b1, W2, b2):\n",
        "    # Forward Pass\n",
        "    Z1 = np.dot(X, W1) + b1\n",
        "    A1 = sigmoid(Z1)\n",
        "    Z2 = np.dot(A1, W2) + b2\n",
        "    A2 = sigmoid(Z2)\n",
        "    # Converte para binário (0 ou 1)\n",
        "    return (A2 > 0.5).astype(int)\n",
        "\n",
        "# Previsão\n",
        "Y_pred = predict_mlp(X_xor, W1, b1, W2, b2)\n",
        "\n",
        "print(\"--- Resultado Final (Problema XOR) ---\")\n",
        "print(\"Entrada (X1, X2) | Verdadeiro (Y) | Previsto (Y_pred)\")\n",
        "print(\"-----------------|----------------|----------------\")\n",
        "for i in range(len(X_xor)):\n",
        "    print(f\"({X_xor[i][0]}, {X_xor[i][1]})      | {Y_xor[i][0]}              | {Y_pred[i][0]}\")\n",
        "\n",
        "# Acurácia\n",
        "accuracy = np.mean(Y_pred == Y_xor)\n",
        "print(f\"\\nAcurácia: {accuracy * 100:.2f}%\")"
      ]
    },
    {
      "cell_type": "markdown",
      "metadata": {
        "id": "KkKYrdBfpPFD"
      },
      "source": [
        "# Resolva"
      ]
    },
    {
      "cell_type": "code",
      "execution_count": 29,
      "metadata": {
        "id": "RGWRV3VyWdZY",
        "outputId": "eda6ecef-c715-4e9d-b05b-8c2827ee4ae9",
        "colab": {
          "base_uri": "https://localhost:8080/",
          "height": 564
        }
      },
      "outputs": [
        {
          "output_type": "display_data",
          "data": {
            "text/plain": [
              "<Figure size 800x600 with 1 Axes>"
            ],
            "image/png": "[encoded data removed]"
          },
          "metadata": {}
        }
      ],
      "source": [
        "import numpy as np\n",
        "import matplotlib.pyplot as plt\n",
        "\n",
        "def gerar_dados(n_amostras=1000, ruido=0.1):\n",
        "\n",
        "    raio1 = 1\n",
        "    teta1 = np.linspace(-np.pi, 0, n_amostras // 2)\n",
        "    x1 = raio1 * np.cos(teta1) + np.random.normal(0, ruido, n_amostras // 2)\n",
        "    y1 = raio1 * np.sin(teta1) + np.random.normal(0, ruido, n_amostras // 2)\n",
        "\n",
        "    raio2 = 1\n",
        "    teta2 = np.linspace(0, np.pi, n_amostras // 2)\n",
        "    x2 = raio2 * np.cos(teta2) + 1 + np.random.normal(0, ruido, n_amostras // 2)\n",
        "    y2 = raio2 * np.sin(teta2) - 0.5 + np.random.normal(0, ruido, n_amostras // 2)\n",
        "\n",
        "    X = np.vstack((np.vstack((x1, y1)).T, np.vstack((x2, y2)).T))\n",
        "    y = np.hstack((np.zeros(n_amostras // 2), np.ones(n_amostras // 2)))\n",
        "\n",
        "    return X, y\n",
        "\n",
        "X, y = gerar_dados(n_amostras=500, ruido=0.1)\n",
        "\n",
        "plt.figure(figsize=(8, 6))\n",
        "\n",
        "plt.scatter(X[y == 0, 0], X[y == 0, 1], c='blue', label='Classe 0')\n",
        "\n",
        "plt.scatter(X[y == 1, 0], X[y == 1, 1], c='red', label='Classe 1')\n",
        "\n",
        "plt.title('Conjunto de Dados')\n",
        "plt.xlabel('Característica 1')\n",
        "plt.ylabel('Característica 2')\n",
        "plt.legend()\n",
        "plt.grid(True)\n",
        "plt.show()"
      ]
    }
  ],
  "metadata": {
    "colab": {
      "provenance": [],
      "include_colab_link": true
    },
    "kernelspec": {
      "display_name": "Python 3",
      "name": "python3"
    },
    "language_info": {
      "codemirror_mode": {
        "name": "ipython",
        "version": 3
      },
      "file_extension": ".py",
      "mimetype": "text/x-python",
      "name": "python",
      "nbconvert_exporter": "python",
      "pygments_lexer": "ipython3",
      "version": "3.12.4"
    }
  },
  "nbformat": 4,
  "nbformat_minor": 0
}